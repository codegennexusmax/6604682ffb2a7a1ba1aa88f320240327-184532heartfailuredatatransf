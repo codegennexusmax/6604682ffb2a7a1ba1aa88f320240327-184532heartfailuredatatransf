{
 "cells": [
  {
   "cell_type": "markdown",
   "id": "94201b95",
   "metadata": {},
   "source": [
    "***GENERATED CODE FOR heartfailuredatatransf PIPELINE.***"
   ]
  },
  {
   "cell_type": "markdown",
   "id": "c3727287",
   "metadata": {},
   "source": [
    "***DON'T EDIT THIS CODE.***"
   ]
  },
  {
   "cell_type": "markdown",
   "id": "d1c30289",
   "metadata": {},
   "source": [
    "***CONNECTOR FUNCTIONS TO READ DATA.***"
   ]
  },
  {
   "cell_type": "code",
   "execution_count": null,
   "id": "a93b6dac",
   "metadata": {},
   "outputs": [],
   "source": [
    "import os\n",
    "import datetime\n",
    "import logging\n",
    "import warnings\n",
    "warnings.filterwarnings('ignore')\n",
    "logging.basicConfig(format='%(levelname)s:%(message)s', level=logging.INFO)\n",
    "\n",
    "\n",
    "class HDFSConnector:\n",
    "\n",
    "    def fetch(spark, config):\n",
    "        ################### INPUT HADOOP HOST PORT TO CONNECT WITH ###############################\n",
    "        hdfs_server = str(os.environ['HDFS_SERVER'])\n",
    "        hdfs_port = int(os.environ['HDFS_PORT'])\n",
    "        df = spark.read.options(header='true', inferschema='true').csv(\n",
    "            f\"hdfs://{hdfs_server}:{hdfs_port}{eval(config)['url']}\", header='true')\n",
    "        display(df.limit(2).toPandas())\n",
    "        return df\n",
    "\n",
    "    def put(df, spark, config):\n",
    "        return df.write.format('csv').options(header='true' if eval(config)[\"is_header\"] == \"Use Header Line\" else 'false',\n",
    "                                              delimiter=eval(config)[\"delimiter\"]).save((\"%s %s\") % (datetime.datetime.now().strftime(\"%Y-%m-%d %H.%M.%S\")+\"_\", eval(config)['url']))\n"
   ]
  },
  {
   "cell_type": "markdown",
   "id": "b3765090",
   "metadata": {},
   "source": [
    "***OPERATION FUNCTIONS***"
   ]
  },
  {
   "cell_type": "code",
   "execution_count": null,
   "id": "fa9ba3e3",
   "metadata": {},
   "outputs": [],
   "source": [
    "import pyspark\n",
    "from dask.dataframe import from_pandas\n",
    "import json\n",
    "\n",
    "\n",
    "def aggregation(df, functionsData, applyOn, additionalFunctions):\n",
    "    dfcp = df\n",
    "    maincolumn = functionsData[0]['aggregateOn'][0]['columnName']\n",
    "    mainagg = functionsData[0]['aggregateFunction']\n",
    "    addfuncs = additionalFunctions\n",
    "    for cols in dfcp.columns:\n",
    "        if cols not in addfuncs:\n",
    "            if cols != maincolumn:\n",
    "                addfuncs[cols] = mainagg\n",
    "    dfcp1 = dfcp.groupby(maincolumn).agg(addfuncs).drop(\n",
    "        maincolumn, axis=1).reset_index(drop=False)\n",
    "    return dfcp1\n",
    "\n",
    "\n",
    "def runDataCleansing(sparkDf, spark, config):\n",
    "    configObj = json.loads(config)\n",
    "    sparkDf.persist(pyspark.StorageLevel.MEMORY_AND_DISK)\n",
    "    df = from_pandas((sparkDf.toPandas()), npartitions=5)\n",
    "    functionList = configObj['functionsApplied']\n",
    "    Data_Cleansing_Methods = {\"replaceBy\": replaceValues,\n",
    "                              \"formula\": calculateFormula,\n",
    "                              \"aggregate\": aggregation,\n",
    "                              \"converttostringtype\": changeToString,\n",
    "                              \"editname\": renameColumns}\n",
    "    for function in functionList:\n",
    "        function['functionName']\n",
    "        df = Data_Cleansing_Methods[function['functionName']](df, function['functionsData'],\n",
    "                                                              function['applyOn'])\n",
    "    sparkDf = spark.createDataFrame(df.compute())\n",
    "\n",
    "    display(sparkDf.limit(2).toPandas())\n",
    "    return sparkDf\n"
   ]
  },
  {
   "cell_type": "markdown",
   "id": "f0c1436c",
   "metadata": {},
   "source": [
    "***CONNECTOR FUNCTIONS TO WRITE DATA.***"
   ]
  },
  {
   "cell_type": "code",
   "execution_count": null,
   "id": "c45771f7",
   "metadata": {},
   "outputs": [],
   "source": [
    "import datetime\n",
    "import requests\n",
    "import datetime\n",
    "import logging\n",
    "import warnings\n",
    "warnings.filterwarnings('ignore')\n",
    "logging.basicConfig(format='%(levelname)s:%(message)s', level=logging.INFO)\n",
    "\n",
    "\n",
    "class NumtraConnector:\n",
    "\n",
    "    def put(inStages, inStagesData, stageId, spark, config):\n",
    "        path = eval(config)['server_url']\n",
    "        baseType = eval(config)['baseType']\n",
    "        results_url = eval(config)['results_url']\n",
    "        server = eval(config)['server']\n",
    "        originalfile = eval(config)['orignalKey']\n",
    "        eval(config)['pathOnly']\n",
    "        filename = eval(config)['filename']\n",
    "        eval(config)['ser']\n",
    "        eval(config)['user']\n",
    "        eval(config)['password']\n",
    "        eval(config)['authSource']\n",
    "        eval(config)['user_id']\n",
    "        eval(config)['parent_id']\n",
    "        eval(config)['project_id']\n",
    "        time = str(int(datetime.datetime.now().timestamp()))\n",
    "\n",
    "        inStagesData[inStages[0]]\n",
    "\n",
    "        print(path)\n",
    "        print(baseType)\n",
    "        print(results_url)\n",
    "        print(server)\n",
    "        print(originalfile)\n",
    "        print(filename)\n",
    "\n",
    "        args = {\n",
    "            'url': path,\n",
    "            'baseType': baseType,\n",
    "            'originalfile': originalfile,\n",
    "            'filename': time + filename\n",
    "        }\n",
    "\n",
    "        response = requests.post(results_url, args)\n",
    "        return response\n"
   ]
  },
  {
   "cell_type": "markdown",
   "id": "d85a65cd",
   "metadata": {},
   "source": [
    "***READING DATAFRAME***"
   ]
  },
  {
   "cell_type": "code",
   "execution_count": null,
   "id": "97a2b9e5",
   "metadata": {},
   "outputs": [],
   "source": [
    "############## CREATE SPARK SESSION ############################ ENTER YOUR SPARK MASTER IP AND PORT TO CONNECT TO SERVER ################\n",
    "from pyspark.sql import SparkSession\n",
    "spark = SparkSession.builder.master('local[1]').getOrCreate()\n",
    "#%run heartfailuredatatransfHooks.ipynb\n",
    "try:\n",
    "\t#sourcePreExecutionHook()\n",
    "\n",
    "\theartfailurehitory = HDFSConnector.fetch(spark, \"{'url': '/FileStore/platform/testdata/1711564825124_HeartFailureHistory.csv', 'filename': 'HeartFailureHistory.csv', 'delimiter': ',', 'file_type': 'Delimeted', 'dbfs_token': '', 'dbfs_domain': '', 'FilePath': '/SampleSolutions/HeartFailureDP/HeartFailureHistory.csv', 'viewFileName': 'HeartFailureHistory.csv', 'is_header': 'Use Header Line', 'baseType': 'hdfs', 'server_url': '/nexusMax/NexusMaxPlatform/uploads/platform/', 'results_url': 'http://dnm.bfirst.ai:44040/api/read/hdfs'}\")\n",
    "\n",
    "except Exception as ex: \n",
    "\tlogging.error(ex)\n",
    "#spark.stop()\n"
   ]
  },
  {
   "cell_type": "markdown",
   "id": "9cbba554",
   "metadata": {},
   "source": [
    "***PERFORMING OPERATIONS***"
   ]
  },
  {
   "cell_type": "code",
   "execution_count": null,
   "id": "264acdd1",
   "metadata": {},
   "outputs": [],
   "source": [
    "#%run heartfailuredatatransfHooks.ipynb\n",
    "try:\n",
    "\t#operationPreExecutionHook()\n",
    "\n",
    "datapreparation = runDataCleansing(heartfailurehitory,spark,json.dumps( {\"url\": \"/FileStore/platform/testdata/1711564825124_HeartFailureHistory.csv\", \"source_attributes\": {}, \"DataPrepFile\": \"/FileStore/platform/testdata/1711564825124_HeartFailureHistory.csv\", \"data_source\": \"platfiles\", \"startListenerOnly\": 1, \"dateColumnNames\": [], \"FilePath\": \"/FileStore/platform/extra/66046843fb2a7a1ba1aa89181711565036/0part.csv\", \"requestRatio\": 1.0, \"totalRows\": 299, \"BasicStats\": {\"missingValues\": 0.0, \"numberOfColumns\": 13, \"numberOfRows\": 47, \"duplicateRowCount\": 0, \"stats\": [{\"column\": \"age\", \"alias\": \"age\", \"generated\": 0, \"type\": \"real\", \"max\": 95.0, \"min\": 40.0, \"mean\": 63.822702127659575, \"missing\": 0.0, \"stddev\": 15.26, \"outliers\": [], \"validation\": []}, {\"column\": \"anaemia\", \"alias\": \"anaemia\", \"generated\": 0, \"type\": \"numeric\", \"max\": 33.0, \"min\": 1.0, \"mean\": 6.361702127659575, \"missing\": 0.0, \"stddev\": 7.71, \"outliers\": [19, 27, 17, 33, 26, 25], \"validation\": []}, {\"column\": \"ejection_fraction\", \"alias\": \"ejection_fraction\", \"generated\": 0, \"type\": \"numeric\", \"max\": 80.0, \"min\": 25.0, \"mean\": 49.12765957446808, \"missing\": 0.0, \"stddev\": 11.27, \"outliers\": [], \"validation\": []}, {\"column\": \"creatinine_phosphokinase\", \"alias\": \"creatinine_phosphokinase\", \"generated\": 0, \"type\": \"numeric\", \"max\": 4540.0, \"min\": 23.0, \"mean\": 239.27659574468086, \"missing\": 0.0, \"stddev\": 659.31, \"outliers\": [358, 582, 427, 582, 4540, 582, 582], \"validation\": []}, {\"column\": \"diabetes\", \"alias\": \"diabetes\", \"generated\": 0, \"type\": \"numeric\", \"max\": 33.0, \"min\": 1.0, \"mean\": 6.361702127659575, \"missing\": 0.0, \"stddev\": 7.71, \"outliers\": [19, 27, 17, 33, 26, 25], \"validation\": []}, {\"column\": \"high_blood_pressure\", \"alias\": \"high_blood_pressure\", \"generated\": 0, \"type\": \"numeric\", \"max\": 33.0, \"min\": 1.0, \"mean\": 6.361702127659575, \"missing\": 0.0, \"stddev\": 7.71, \"outliers\": [19, 27, 17, 33, 26, 25], \"validation\": []}, {\"column\": \"platelets\", \"alias\": \"platelets\", \"generated\": 0, \"type\": \"numeric\", \"max\": 33.0, \"min\": 1.0, \"mean\": 6.361702127659575, \"missing\": 0.0, \"stddev\": 7.71, \"outliers\": [19, 27, 17, 33, 26, 25], \"validation\": []}, {\"column\": \"serum_creatinine\", \"alias\": \"serum_creatinine\", \"generated\": 0, \"type\": \"numeric\", \"max\": 33.0, \"min\": 1.0, \"mean\": 6.361702127659575, \"missing\": 0.0, \"stddev\": 7.71, \"outliers\": [19, 27, 17, 33, 26, 25], \"validation\": []}, {\"column\": \"serum_sodium\", \"alias\": \"serum_sodium\", \"generated\": 0, \"type\": \"numeric\", \"max\": 33.0, \"min\": 1.0, \"mean\": 6.361702127659575, \"missing\": 0.0, \"stddev\": 7.71, \"outliers\": [19, 27, 17, 33, 26, 25], \"validation\": []}, {\"column\": \"sex\", \"alias\": \"sex\", \"generated\": 0, \"type\": \"numeric\", \"max\": 33.0, \"min\": 1.0, \"mean\": 6.361702127659575, \"missing\": 0.0, \"stddev\": 7.71, \"outliers\": [19, 27, 17, 33, 26, 25], \"validation\": []}, {\"column\": \"smoking\", \"alias\": \"smoking\", \"generated\": 0, \"type\": \"numeric\", \"max\": 33.0, \"min\": 1.0, \"mean\": 6.361702127659575, \"missing\": 0.0, \"stddev\": 7.71, \"outliers\": [19, 27, 17, 33, 26, 25], \"validation\": []}, {\"column\": \"time\", \"alias\": \"time\", \"generated\": 0, \"type\": \"numeric\", \"max\": 33.0, \"min\": 1.0, \"mean\": 6.361702127659575, \"missing\": 0.0, \"stddev\": 7.71, \"outliers\": [19, 27, 17, 33, 26, 25], \"validation\": []}, {\"column\": \"DEATH_EVENT\", \"alias\": \"DEATH_EVENT\", \"generated\": 0, \"type\": \"numeric\", \"max\": 33.0, \"min\": 1.0, \"mean\": 6.361702127659575, \"missing\": 0.0, \"stddev\": 7.71, \"outliers\": [19, 27, 17, 33, 26, 25], \"validation\": []}]}, \"predictionPowerScore\": [{\"DEATH_EVENT\": 1.0, \"age\": 0.0, \"anaemia\": 0.8440155055, \"creatinine_phosphokinase\": 0.0, \"diabetes\": 0.8440155055, \"ejection_fraction\": 0.1632159799, \"high_blood_pressure\": 0.8440155055, \"platelets\": 0.8440155055, \"serum_creatinine\": 0.8440155055, \"serum_sodium\": 0.8440155055, \"sex\": 0.8440155055, \"smoking\": 0.8440155055, \"time\": 0.8440155055}, {\"DEATH_EVENT\": 0.0, \"age\": 1.0, \"anaemia\": 0.0, \"creatinine_phosphokinase\": 0.0, \"diabetes\": 0.0, \"ejection_fraction\": 0.02909634, \"high_blood_pressure\": 0.0, \"platelets\": 0.0, \"serum_creatinine\": 0.0, \"serum_sodium\": 0.0, \"sex\": 0.0, \"smoking\": 0.0, \"time\": 0.0}, {\"DEATH_EVENT\": 0.8440155055, \"age\": 0.0, \"anaemia\": 1.0, \"creatinine_phosphokinase\": 0.0, \"diabetes\": 0.8440155055, \"ejection_fraction\": 0.1632159799, \"high_blood_pressure\": 0.8440155055, \"platelets\": 0.8440155055, \"serum_creatinine\": 0.8440155055, \"serum_sodium\": 0.8440155055, \"sex\": 0.8440155055, \"smoking\": 0.8440155055, \"time\": 0.8440155055}, {\"DEATH_EVENT\": 0.0, \"age\": 0.0, \"anaemia\": 0.0, \"creatinine_phosphokinase\": 1.0, \"diabetes\": 0.0, \"ejection_fraction\": 0.0, \"high_blood_pressure\": 0.0, \"platelets\": 0.0, \"serum_creatinine\": 0.0, \"serum_sodium\": 0.0, \"sex\": 0.0, \"smoking\": 0.0, \"time\": 0.0}, {\"DEATH_EVENT\": 0.8440155055, \"age\": 0.0, \"anaemia\": 0.8440155055, \"creatinine_phosphokinase\": 0.0, \"diabetes\": 1.0, \"ejection_fraction\": 0.1632159799, \"high_blood_pressure\": 0.8440155055, \"platelets\": 0.8440155055, \"serum_creatinine\": 0.8440155055, \"serum_sodium\": 0.8440155055, \"sex\": 0.8440155055, \"smoking\": 0.8440155055, \"time\": 0.8440155055}, {\"DEATH_EVENT\": 0.028395356, \"age\": 0.0, \"anaemia\": 0.028395356, \"creatinine_phosphokinase\": 0.0, \"diabetes\": 0.028395356, \"ejection_fraction\": 1.0, \"high_blood_pressure\": 0.028395356, \"platelets\": 0.028395356, \"serum_creatinine\": 0.028395356, \"serum_sodium\": 0.028395356, \"sex\": 0.028395356, \"smoking\": 0.028395356, \"time\": 0.028395356}, {\"DEATH_EVENT\": 0.8440155055, \"age\": 0.0, \"anaemia\": 0.8440155055, \"creatinine_phosphokinase\": 0.0, \"diabetes\": 0.8440155055, \"ejection_fraction\": 0.1632159799, \"high_blood_pressure\": 1.0, \"platelets\": 0.8440155055, \"serum_creatinine\": 0.8440155055, \"serum_sodium\": 0.8440155055, \"sex\": 0.8440155055, \"smoking\": 0.8440155055, \"time\": 0.8440155055}, {\"DEATH_EVENT\": 0.8440155055, \"age\": 0.0, \"anaemia\": 0.8440155055, \"creatinine_phosphokinase\": 0.0, \"diabetes\": 0.8440155055, \"ejection_fraction\": 0.1632159799, \"high_blood_pressure\": 0.8440155055, \"platelets\": 1.0, \"serum_creatinine\": 0.8440155055, \"serum_sodium\": 0.8440155055, \"sex\": 0.8440155055, \"smoking\": 0.8440155055, \"time\": 0.8440155055}, {\"DEATH_EVENT\": 0.8440155055, \"age\": 0.0, \"anaemia\": 0.8440155055, \"creatinine_phosphokinase\": 0.0, \"diabetes\": 0.8440155055, \"ejection_fraction\": 0.1632159799, \"high_blood_pressure\": 0.8440155055, \"platelets\": 0.8440155055, \"serum_creatinine\": 1.0, \"serum_sodium\": 0.8440155055, \"sex\": 0.8440155055, \"smoking\": 0.8440155055, \"time\": 0.8440155055}, {\"DEATH_EVENT\": 0.8440155055, \"age\": 0.0, \"anaemia\": 0.8440155055, \"creatinine_phosphokinase\": 0.0, \"diabetes\": 0.8440155055, \"ejection_fraction\": 0.1632159799, \"high_blood_pressure\": 0.8440155055, \"platelets\": 0.8440155055, \"serum_creatinine\": 0.8440155055, \"serum_sodium\": 1.0, \"sex\": 0.8440155055, \"smoking\": 0.8440155055, \"time\": 0.8440155055}, {\"DEATH_EVENT\": 0.8440155055, \"age\": 0.0, \"anaemia\": 0.8440155055, \"creatinine_phosphokinase\": 0.0, \"diabetes\": 0.8440155055, \"ejection_fraction\": 0.1632159799, \"high_blood_pressure\": 0.8440155055, \"platelets\": 0.8440155055, \"serum_creatinine\": 0.8440155055, \"serum_sodium\": 0.8440155055, \"sex\": 1.0, \"smoking\": 0.8440155055, \"time\": 0.8440155055}, {\"DEATH_EVENT\": 0.8440155055, \"age\": 0.0, \"anaemia\": 0.8440155055, \"creatinine_phosphokinase\": 0.0, \"diabetes\": 0.8440155055, \"ejection_fraction\": 0.1632159799, \"high_blood_pressure\": 0.8440155055, \"platelets\": 0.8440155055, \"serum_creatinine\": 0.8440155055, \"serum_sodium\": 0.8440155055, \"sex\": 0.8440155055, \"smoking\": 1.0, \"time\": 0.8440155055}, {\"DEATH_EVENT\": 0.8440155055, \"age\": 0.0, \"anaemia\": 0.8440155055, \"creatinine_phosphokinase\": 0.0, \"diabetes\": 0.8440155055, \"ejection_fraction\": 0.1632159799, \"high_blood_pressure\": 0.8440155055, \"platelets\": 0.8440155055, \"serum_creatinine\": 0.8440155055, \"serum_sodium\": 0.8440155055, \"sex\": 0.8440155055, \"smoking\": 0.8440155055, \"time\": 1.0}], \"HasBasicStats\": 1, \"functionsApplied\": [{\"functionName\": \"aggregate\", \"applyOn\": [{\"columnName\": \"age\", \"type\": \"real\", \"min\": \"40.0\", \"max\": \"95.0\", \"mean\": \"60.8\"}], \"functionsData\": [{\"aggregateFunction\": \"count\", \"aggregateOn\": [{\"columnName\": \"age\", \"type\": \"real\", \"min\": \"40.0\", \"max\": \"95.0\", \"mean\": \"60.8\"}], \"groupOn\": [{\"columnName\": \"age\", \"type\": \"real\", \"min\": \"40.0\", \"max\": \"95.0\", \"mean\": \"60.8\"}]}], \"additionalFunctions\": {\"anaemia\": \"count\", \"ejection_fraction\": \"max\", \"creatinine_phosphokinase\": \"min\", \"diabetes\": \"count\", \"high_blood_pressure\": \"count\", \"platelets\": \"count\", \"serum_creatinine\": \"count\", \"serum_sodium\": \"count\", \"sex\": \"count\", \"smoking\": \"count\", \"time\": \"count\", \"DEATH_EVENT\": \"count\"}}], \"functionChanges\": [{\"columnName\": \"age\", \"functionName\": \"Aggregate\", \"Type\": \"real\", \"Parameters\": [{\"aggregateFunction\": \"count\", \"aggregateOn\": [{\"columnName\": \"age\", \"type\": \"real\", \"min\": \"40.0\", \"max\": \"95.0\", \"mean\": \"60.8\"}], \"groupOn\": [{\"columnName\": \"age\", \"type\": \"real\", \"min\": \"40.0\", \"max\": \"95.0\", \"mean\": \"60.8\"}]}]}], \"fileheader\": [{\"field\": \"age\", \"alias\": \"age\", \"generated\": 0, \"position\": 1, \"type\": \"real\"}, {\"field\": \"anaemia\", \"alias\": \"anaemia\", \"generated\": 0, \"position\": 2, \"type\": \"numeric\"}, {\"field\": \"ejection_fraction\", \"alias\": \"ejection_fraction\", \"generated\": 0, \"position\": 3, \"type\": \"numeric\"}, {\"field\": \"creatinine_phosphokinase\", \"alias\": \"creatinine_phosphokinase\", \"generated\": 0, \"position\": 4, \"type\": \"numeric\"}, {\"field\": \"diabetes\", \"alias\": \"diabetes\", \"generated\": 0, \"position\": 5, \"type\": \"numeric\"}, {\"field\": \"high_blood_pressure\", \"alias\": \"high_blood_pressure\", \"generated\": 0, \"position\": 6, \"type\": \"numeric\"}, {\"field\": \"platelets\", \"alias\": \"platelets\", \"generated\": 0, \"position\": 7, \"type\": \"numeric\"}, {\"field\": \"serum_creatinine\", \"alias\": \"serum_creatinine\", \"generated\": 0, \"position\": 8, \"type\": \"numeric\"}, {\"field\": \"serum_sodium\", \"alias\": \"serum_sodium\", \"generated\": 0, \"position\": 9, \"type\": \"numeric\"}, {\"field\": \"sex\", \"alias\": \"sex\", \"generated\": 0, \"position\": 10, \"type\": \"numeric\"}, {\"field\": \"smoking\", \"alias\": \"smoking\", \"generated\": 0, \"position\": 11, \"type\": \"numeric\"}, {\"field\": \"time\", \"alias\": \"time\", \"generated\": 0, \"position\": 12, \"type\": \"numeric\"}, {\"field\": \"DEATH_EVENT\", \"alias\": \"DEATH_EVENT\", \"generated\": 0, \"position\": 13, \"type\": \"numeric\"}]}))\n",
    "\t#operationPostExecutionHook(datapreparation)\n",
    "\n",
    "except Exception as ex: \n",
    "\tlogging.error(ex)\n"
   ]
  },
  {
   "cell_type": "markdown",
   "id": "bbac5103",
   "metadata": {},
   "source": [
    "***WRITING DATAFRAME***"
   ]
  },
  {
   "cell_type": "code",
   "execution_count": null,
   "id": "1f31bbfb",
   "metadata": {},
   "outputs": [],
   "source": [
    "#%run heartfailuredatatransfHooks.ipynb\n",
    "try:\n",
    "\t#sinkPreExecutionHook()\n",
    "\n",
    "\theartfailuredpoutput = NumtraConnector.fetch(spark, \"{'samplefile': '/FileStore/platform/sampleData/66046840fb2a7a1ba1aa8914/part-00000-695d3cef-241e-489f-8be6-4dffb2ad6d6e-c000.csv', 'samplecount': 299, 'originalcount': 299, 'orignalKey': '/FileStore/platform/testdata/1711564825124_HeartFailureHistory.csv', 'pathOnly': '/SampleSolutions/HeartFailureDP', 'project_id': '66046810fb2a7a1ba1aa88e9', 'parent_id': '66046810fb2a7a1ba1aa88e9', 'original_schema': [{'checked': True, 'inherited': True, 'is_categorical': False, 'bad_values': '', 'nullable': 'true', 'field': 'age', 'alias': 'age', 'type': 'real', 'position': '0'}, {'checked': True, 'inherited': True, 'is_categorical': False, 'bad_values': '', 'nullable': 'true', 'field': 'anaemia', 'alias': 'anaemia', 'type': 'numeric', 'position': '1'}, {'checked': True, 'inherited': True, 'is_categorical': False, 'bad_values': '', 'nullable': 'true', 'field': 'ejection_fraction', 'alias': 'ejection_fraction', 'type': 'numeric', 'position': '2'}, {'checked': True, 'inherited': True, 'is_categorical': False, 'bad_values': '', 'nullable': 'true', 'field': 'creatinine_phosphokinase', 'alias': 'creatinine_phosphokinase', 'type': 'numeric', 'position': '3'}, {'checked': True, 'inherited': True, 'is_categorical': False, 'bad_values': '', 'nullable': 'true', 'field': 'diabetes', 'alias': 'diabetes', 'type': 'numeric', 'position': '4'}, {'checked': True, 'inherited': True, 'is_categorical': False, 'bad_values': '', 'nullable': 'true', 'field': 'high_blood_pressure', 'alias': 'high_blood_pressure', 'type': 'numeric', 'position': '5'}, {'checked': True, 'inherited': True, 'is_categorical': False, 'bad_values': '', 'nullable': 'true', 'field': 'platelets', 'alias': 'platelets', 'type': 'numeric', 'position': '6'}, {'checked': True, 'inherited': True, 'is_categorical': False, 'bad_values': '', 'nullable': 'true', 'field': 'serum_creatinine', 'alias': 'serum_creatinine', 'type': 'numeric', 'position': '7'}, {'checked': True, 'inherited': True, 'is_categorical': False, 'bad_values': '', 'nullable': 'true', 'field': 'serum_sodium', 'alias': 'serum_sodium', 'type': 'numeric', 'position': '8'}, {'checked': True, 'inherited': True, 'is_categorical': False, 'bad_values': '', 'nullable': 'true', 'field': 'sex', 'alias': 'sex', 'type': 'numeric', 'position': '9'}, {'checked': True, 'inherited': True, 'is_categorical': False, 'bad_values': '', 'nullable': 'true', 'field': 'smoking', 'alias': 'smoking', 'type': 'numeric', 'position': '10'}, {'checked': True, 'inherited': True, 'is_categorical': False, 'bad_values': '', 'nullable': 'true', 'field': 'time', 'alias': 'time', 'type': 'numeric', 'position': '11'}, {'checked': True, 'inherited': True, 'is_categorical': False, 'bad_values': '', 'nullable': 'true', 'field': 'DEATH_EVENT', 'alias': 'DEATH_EVENT', 'type': 'numeric', 'position': '12'}], 'actual_schema': [{'checked': True, 'inherited': True, 'is_categorical': False, 'bad_values': '', 'nullable': 'true', 'field': 'age', 'alias': 'age', 'type': 'real', 'position': '0'}, {'checked': True, 'inherited': True, 'is_categorical': False, 'bad_values': '', 'nullable': 'true', 'field': 'anaemia', 'alias': 'anaemia', 'type': 'numeric', 'position': '1'}, {'checked': True, 'inherited': True, 'is_categorical': False, 'bad_values': '', 'nullable': 'true', 'field': 'creatinine_phosphokinase', 'alias': 'creatinine_phosphokinase', 'type': 'numeric', 'position': '2'}, {'checked': True, 'inherited': True, 'is_categorical': False, 'bad_values': '', 'nullable': 'true', 'field': 'diabetes', 'alias': 'diabetes', 'type': 'numeric', 'position': '3'}, {'checked': True, 'inherited': True, 'is_categorical': False, 'bad_values': '', 'nullable': 'true', 'field': 'ejection_fraction', 'alias': 'ejection_fraction', 'type': 'numeric', 'position': '4'}, {'checked': True, 'inherited': True, 'is_categorical': False, 'bad_values': '', 'nullable': 'true', 'field': 'high_blood_pressure', 'alias': 'high_blood_pressure', 'type': 'numeric', 'position': '5'}, {'checked': True, 'inherited': True, 'is_categorical': False, 'bad_values': '', 'nullable': 'true', 'field': 'platelets', 'alias': 'platelets', 'type': 'real', 'position': '6'}, {'checked': True, 'inherited': True, 'is_categorical': False, 'bad_values': '', 'nullable': 'true', 'field': 'serum_creatinine', 'alias': 'serum_creatinine', 'type': 'real', 'position': '7'}, {'checked': True, 'inherited': True, 'is_categorical': False, 'bad_values': '', 'nullable': 'true', 'field': 'serum_sodium', 'alias': 'serum_sodium', 'type': 'numeric', 'position': '8'}, {'checked': True, 'inherited': True, 'is_categorical': False, 'bad_values': '', 'nullable': 'true', 'field': 'sex', 'alias': 'sex', 'type': 'numeric', 'position': '9'}, {'checked': True, 'inherited': True, 'is_categorical': False, 'bad_values': '', 'nullable': 'true', 'field': 'smoking', 'alias': 'smoking', 'type': 'numeric', 'position': '10'}, {'checked': True, 'inherited': True, 'is_categorical': False, 'bad_values': '', 'nullable': 'true', 'field': 'time', 'alias': 'time', 'type': 'numeric', 'position': '11'}, {'checked': True, 'inherited': True, 'is_categorical': False, 'bad_values': '', 'nullable': 'true', 'field': 'DEATH_EVENT', 'alias': 'DEATH_EVENT', 'type': 'numeric', 'position': '12'}], 'server': 'https://dnm.bfirst.ai:443', 'server_url': '/nexusMax/NexusMaxPlatform/uploads/platform/', 'delimiter': ',', 'file_type': 'Delimeted', 'filename': 'HeartFailureTransformed.csv', 'token': '', 'domain': '', 'is_header': 'Use Header Line', 'url': '/FileStore/platform/uploadedSourceFiles/part-00000-d252f871-1a93-4261-82a6-b6d417748da0-c000.csv', 'results_url': 'http://dnm.bfirst.ai:44040/api/read/hdfs'}\")\n",
    "\n",
    "except Exception as ex: \n",
    "\tlogging.error(ex)\n"
   ]
  }
 ],
 "metadata": {},
 "nbformat": 4,
 "nbformat_minor": 5
}
